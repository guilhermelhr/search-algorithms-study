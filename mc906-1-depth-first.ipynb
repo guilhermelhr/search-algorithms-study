{
 "cells": [
  {
   "cell_type": "code",
   "execution_count": 1,
   "metadata": {},
   "outputs": [],
   "source": [
    "import matplotlib.pyplot as plt\n",
    "from matplotlib import colors as c\n",
    "import time\n",
    "# Needed to hide warnings in the matplotlib sections\n",
    "import warnings\n",
    "warnings.filterwarnings(\"ignore\")"
   ]
  },
  {
   "cell_type": "code",
   "execution_count": 2,
   "metadata": {},
   "outputs": [],
   "source": [
    "from search import *"
   ]
  },
  {
   "cell_type": "code",
   "execution_count": 3,
   "metadata": {},
   "outputs": [],
   "source": [
    "class MazeProblem(Problem):\n",
    "\n",
    "    \"\"\"The abstract class for a formal problem. You should subclass\n",
    "    this and implement the methods actions and result, and possibly\n",
    "    __init__, goal_test, and path_cost. Then you will create instances\n",
    "    of your subclass and solve them with the various search functions.\"\"\"\n",
    "\n",
    "    def __init__(self, initial, goal, maze):\n",
    "        \"\"\"The constructor specifies the initial state, and possibly a goal\n",
    "        state, if there is a unique goal. Your subclass's constructor can add\n",
    "        other arguments.\"\"\"\n",
    "        Problem.__init__(self, initial, goal)\n",
    "        self.maze = maze\n",
    "\n",
    "    def actions(self, state):\n",
    "        \"\"\"Return the actions that can be executed in the given\n",
    "        state. The result would typically be a list, but if there are\n",
    "        many actions, consider yielding them one at a time in an\n",
    "        iterator, rather than building them all at once.\"\"\"\n",
    "        options = []\n",
    "        x = state[0]\n",
    "        y = state[1]\n",
    "        \n",
    "        if x + 1 < 60 and maze[y][x + 1] == 0: #move right\n",
    "            options.append((x + 1, y))\n",
    "        if x - 1 >= 0 and maze[y][x - 1] == 0: #move left\n",
    "            options.append((x - 1, y))\n",
    "        if y + 1 < 60 and maze[y + 1][x] == 0: #move up\n",
    "            options.append((x, y + 1))\n",
    "        if y - 1 >= 0 and maze[y - 1][x] == 0: #move down\n",
    "            options.append((x, y - 1))\n",
    "                    \n",
    "        return options\n",
    "\n",
    "    def result(self, state, action):\n",
    "        return action\n",
    "\n",
    "    def goal_test(self, state):\n",
    "        \"\"\"Return True if the state is a goal. The default method compares the\n",
    "        state to self.goal or checks for state in self.goal if it is a\n",
    "        list, as specified in the constructor. Override this method if\n",
    "        checking against a single self.goal is not enough.\"\"\"\n",
    "        if isinstance(self.goal, list):\n",
    "            return is_in(state, self.goal)\n",
    "        else:\n",
    "            return state == self.goal\n",
    "\n",
    "    def path_cost(self, c, state1, action, state2):\n",
    "        \"\"\"Return the cost of a solution path that arrives at state2 from\n",
    "        state1 via action, assuming cost c to get up to state1. If the problem\n",
    "        is such that the path doesn't matter, this function will only look at\n",
    "        state2.  If the path does matter, it will consider c and maybe state1\n",
    "        and action. The default method costs 1 for every step in the path.\"\"\"\n",
    "        return c + 1\n",
    "\n",
    "    def value(self, state):\n",
    "        \"\"\"For optimization problems, each state has a value.  Hill-climbing\n",
    "        and related algorithms try to maximize this value.\"\"\"\n",
    "        raise NotImplementedError"
   ]
  },
  {
   "cell_type": "code",
   "execution_count": 6,
   "metadata": {},
   "outputs": [],
   "source": [
    "def depth_first_graph_search2(problem, display):\n",
    "    \"\"\"Search through the successors of a problem to find a goal.\n",
    "    The argument frontier should be an empty queue.\n",
    "    Don't worry about repeated paths to a state. [Figure 3.7]\"\"\"\n",
    "    frontier = [(Node(problem.initial))]  # Stack\n",
    "    explored = set()\n",
    "    iterations = 0\n",
    "    while frontier:\n",
    "        node = frontier.pop()\n",
    "        display[node.state[1]][node.state[0]] = 6 #exploring\n",
    "        iterations += 1\n",
    "        \n",
    "        if problem.goal_test(node.state):\n",
    "            iterations += 1\n",
    "            return (iterations, node)\n",
    "        explored.add(node.state)\n",
    "        \n",
    "        frontier.extend(child for child in node.expand(problem)\n",
    "                        if child.state not in explored and\n",
    "                        child not in frontier)\n",
    "        \n",
    "        for n in node.expand(problem):\n",
    "            display[n.state[1]][n.state[0]] = 4 #frontier\n",
    "            if n.state not in explored and n not in frontier:\n",
    "                iterations += 1\n",
    "        \n",
    "        display[node.state[1]][node.state[0]] = 5 #explored\n",
    "        iterations += 1\n",
    "    return (None, None)"
   ]
  },
  {
   "cell_type": "code",
   "execution_count": 38,
   "metadata": {},
   "outputs": [
    {
     "name": "stdout",
     "output_type": "stream",
     "text": [
      "(19, 1) (21, 21)\n",
      "0.20583748817443848\n",
      "2206\n"
     ]
    },
    {
     "data": {
      "image/png": "[encoded data removed]",
      "text/plain": [
       "<Figure size 432x288 with 1 Axes>"
      ]
     },
     "metadata": {
      "needs_background": "light"
     },
     "output_type": "display_data"
    }
   ],
   "source": [
    "maze = [[] for i in range(0, 61)]\n",
    "\n",
    "for y in range(0, 61):\n",
    "    maze[y] = [[] for i in range(61)]\n",
    "    for x in range(0, 61):\n",
    "        if x == 0 or x == 60 or y == 0 or y == 60: #external walls\n",
    "            maze[y][x] = 1\n",
    "        elif x == 20 and y < 40:    #lower vertical wall\n",
    "            maze[y][x] = 1\n",
    "        elif x == 40 and y > 20:    #upper vertical wall\n",
    "            maze[y][x] = 1\n",
    "        else:                       #walkable tile\n",
    "            maze[y][x] = 0\n",
    "\n",
    "initial = (19, 1)\n",
    "target = (21, 21)\n",
    "print(initial, target)\n",
    "\n",
    "maze_problem = MazeProblem(initial, target, maze)\n",
    "\n",
    "display = maze.copy()\n",
    "\n",
    "start = time.time()\n",
    "\n",
    "iterations, node = depth_first_graph_search2(maze_problem, display)\n",
    "\n",
    "end = time.time()\n",
    "print(end - start)\n",
    "\n",
    "for p in node.solution():\n",
    "    if display[p[1]][p[0]] != 6:\n",
    "        display[p[1]][p[0]] = 7\n",
    "    \n",
    "display[initial[1]][initial[0]] = 2\n",
    "display[target[1]][target[0]] = 3\n",
    "\n",
    "print(iterations)\n",
    "\n",
    "cMap = c.ListedColormap([\n",
    "    'white', #not visited\n",
    "    'black', #wall\n",
    "    'blue',  #start\n",
    "    'green', #goal\n",
    "    'orange',#frontier\n",
    "    'grey',  #explored\n",
    "    'red',   #exploring\n",
    "    'pink']) #solution\n",
    "plt.pcolormesh(display, cmap=cMap)\n",
    "plt.clim(0, 8)\n",
    "plt.axes().set_aspect('equal')\n",
    "plt.show()"
   ]
  },
  {
   "cell_type": "code",
   "execution_count": null,
   "metadata": {},
   "outputs": [],
   "source": []
  }
 ],
 "metadata": {
  "kernelspec": {
   "display_name": "Python 3",
   "language": "python",
   "name": "python3"
  },
  "language_info": {
   "codemirror_mode": {
    "name": "ipython",
    "version": 3
   },
   "file_extension": ".py",
   "mimetype": "text/x-python",
   "name": "python",
   "nbconvert_exporter": "python",
   "pygments_lexer": "ipython3",
   "version": "3.7.1"
  }
 },
 "nbformat": 4,
 "nbformat_minor": 2
}
